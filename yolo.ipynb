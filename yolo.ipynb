{
 "cells": [
  {
   "cell_type": "code",
   "execution_count": 2,
   "metadata": {},
   "outputs": [
    {
     "name": "stdout",
     "output_type": "stream",
     "text": [
      "/bin/bash: tritonserver: command not found\n"
     ]
    }
   ],
   "source": [
    "!tritonserver --model-repository=/home/tiongkai/TiongKai/triton/model_repo/yoloseg-onnx/1/model.onnx --strict-model-config=false --exit-on-error=false --dump-model-config\n"
   ]
  },
  {
   "cell_type": "code",
   "execution_count": 2,
   "metadata": {},
   "outputs": [
    {
     "name": "stdout",
     "output_type": "stream",
     "text": [
      "Inputs:\n",
      "  - Name: images, Shape: [0, 3, 0, 0], DType: 1\n",
      "Outputs:\n",
      "  - Name: output0, Shape: [0, 116, 0], DType: 1\n",
      "  - Name: output1, Shape: [0, 32, 0, 0], DType: 1\n"
     ]
    }
   ],
   "source": [
    "import onnx\n",
    "\n",
    "model = onnx.load(\"/home/tiongkai/TiongKai/triton/model_repo/yoloseg-onnx/1/model.onnx\")\n",
    "\n",
    "print(\"Inputs:\")\n",
    "for i in model.graph.input:\n",
    "    name = i.name\n",
    "    dims = [d.dim_value for d in i.type.tensor_type.shape.dim]\n",
    "    dtype = i.type.tensor_type.elem_type\n",
    "    print(f\"  - Name: {name}, Shape: {dims}, DType: {dtype}\")\n",
    "\n",
    "print(\"Outputs:\")\n",
    "for o in model.graph.output:\n",
    "    name = o.name\n",
    "    dims = [d.dim_value for d in o.type.tensor_type.shape.dim]\n",
    "    dtype = o.type.tensor_type.elem_type\n",
    "    print(f\"  - Name: {name}, Shape: {dims}, DType: {dtype}\")\n"
   ]
  },
  {
   "cell_type": "code",
   "execution_count": 18,
   "metadata": {},
   "outputs": [
    {
     "name": "stdout",
     "output_type": "stream",
     "text": [
      "Collecting opencv-python\n",
      "  Using cached opencv_python-4.11.0.86-cp37-abi3-manylinux_2_17_x86_64.manylinux2014_x86_64.whl.metadata (20 kB)\n",
      "Requirement already satisfied: numpy>=1.17.0 in /home/tiongkai/anaconda3/envs/triton/lib/python3.8/site-packages (from opencv-python) (1.24.3)\n",
      "Using cached opencv_python-4.11.0.86-cp37-abi3-manylinux_2_17_x86_64.manylinux2014_x86_64.whl (63.0 MB)\n",
      "Installing collected packages: opencv-python\n",
      "Successfully installed opencv-python-4.11.0.86\n"
     ]
    }
   ],
   "source": [
    "!pip install opencv-python\n"
   ]
  },
  {
   "cell_type": "code",
   "execution_count": 25,
   "metadata": {},
   "outputs": [],
   "source": [
    "import numpy as np\n",
    "import tritonclient.http as httpclient\n",
    "import cv2\n",
    "\n",
    "client = httpclient.InferenceServerClient(url=\"localhost:8000\")\n",
    "input_data = np.random.rand(1, 3, 512, 512).astype(np.float32)\n",
    "input_data = cv2.imread('1.png').astype(np.float32)\n",
    "\n",
    "resized = cv2.resize(input_data, (640, 640))  # (Width, Height)\n",
    "chw = np.transpose(resized, (2, 0, 1))  # (3, 640, 640)\n",
    "\n",
    "# Convert to float32 and normalize (if needed)\n",
    "chw = chw.astype(np.float32) / 255.0  # Normalize to [0, 1] if model expects it\n",
    "\n",
    "# Add batch dimension\n",
    "input_tensor = np.expand_dims(chw, axis=0)  # (1, 3, 640, 640)\n",
    "\n",
    "inputs = [\n",
    "    httpclient.InferInput(\"images\", input_tensor.shape, \"FP32\")\n",
    "]\n",
    "inputs[0].set_data_from_numpy(input_tensor)\n",
    "\n",
    "outputs = [\n",
    "    httpclient.InferRequestedOutput(\"output0\"),\n",
    "    httpclient.InferRequestedOutput(\"output1\"),\n",
    "]\n",
    "\n",
    "response = client.infer(\"yoloseg-onnx\", inputs=inputs, outputs=outputs)\n"
   ]
  },
  {
   "cell_type": "code",
   "execution_count": 26,
   "metadata": {},
   "outputs": [
    {
     "name": "stdout",
     "output_type": "stream",
     "text": [
      "Result: [[[ 1.3986837e+01  2.9678478e+01  2.9032045e+01 ...  5.1945496e+02\n",
      "    5.5032953e+02  5.9275366e+02]\n",
      "  [ 5.0606556e+00  3.4676998e+00  3.6729958e+00 ...  5.8404578e+02\n",
      "    5.9803540e+02  5.9740320e+02]\n",
      "  [ 3.4946079e+01  6.0276146e+01  5.8369549e+01 ...  2.4009909e+02\n",
      "    1.8918698e+02  1.3102319e+02]\n",
      "  ...\n",
      "  [-4.1507277e-01 -6.2845850e-01 -7.2458577e-01 ... -6.2909979e-01\n",
      "   -5.8512980e-01 -6.4656460e-01]\n",
      "  [ 2.3112774e-02  4.1996807e-02  7.7210724e-02 ... -1.7438345e-01\n",
      "   -1.3832067e-01 -1.9488116e-01]\n",
      "  [-7.4720830e-03 -2.4492612e-01 -2.1964540e-01 ...  3.2933634e-02\n",
      "    3.8156107e-02  4.9060427e-02]]]\n"
     ]
    }
   ],
   "source": [
    "result = response.as_numpy(\"output0\")\n",
    "print(\"Result:\", result)"
   ]
  },
  {
   "cell_type": "code",
   "execution_count": 29,
   "metadata": {},
   "outputs": [
    {
     "data": {
      "text/plain": [
       "(8400,)"
      ]
     },
     "execution_count": 29,
     "metadata": {},
     "output_type": "execute_result"
    }
   ],
   "source": [
    "result[0][0].shape"
   ]
  },
  {
   "cell_type": "markdown",
   "metadata": {},
   "source": [
    "# TensorRT"
   ]
  },
  {
   "cell_type": "code",
   "execution_count": 5,
   "metadata": {},
   "outputs": [
    {
     "name": "stdout",
     "output_type": "stream",
     "text": [
      "[07/04/2025-17:09:24] [TRT] [E] 1: [stdArchiveReader.cpp::StdArchiveReader::30] Error Code 1: Serialization (Serialization assertion magicTagRead == kMAGIC_TAG failed.Magic tag does not match)\n",
      "[07/04/2025-17:09:24] [TRT] [E] 4: [runtime.cpp::deserializeCudaEngine::50] Error Code 4: Internal Error (Engine deserialization failed.)\n"
     ]
    },
    {
     "ename": "AttributeError",
     "evalue": "'NoneType' object has no attribute 'num_bindings'",
     "output_type": "error",
     "traceback": [
      "\u001b[0;31m---------------------------------------------------------------------------\u001b[0m",
      "\u001b[0;31mAttributeError\u001b[0m                            Traceback (most recent call last)",
      "Cell \u001b[0;32mIn[5], line 6\u001b[0m\n\u001b[1;32m      4\u001b[0m \u001b[38;5;28;01mwith\u001b[39;00m \u001b[38;5;28mopen\u001b[39m(\u001b[38;5;124m\"\u001b[39m\u001b[38;5;124mmodel_repo/yoloseg-engine/1/model.engine\u001b[39m\u001b[38;5;124m\"\u001b[39m, \u001b[38;5;124m\"\u001b[39m\u001b[38;5;124mrb\u001b[39m\u001b[38;5;124m\"\u001b[39m) \u001b[38;5;28;01mas\u001b[39;00m f, trt\u001b[38;5;241m.\u001b[39mRuntime(TRT_LOGGER) \u001b[38;5;28;01mas\u001b[39;00m runtime:\n\u001b[1;32m      5\u001b[0m     engine \u001b[38;5;241m=\u001b[39m runtime\u001b[38;5;241m.\u001b[39mdeserialize_cuda_engine(f\u001b[38;5;241m.\u001b[39mread())\n\u001b[0;32m----> 6\u001b[0m     \u001b[38;5;28;01mfor\u001b[39;00m i \u001b[38;5;129;01min\u001b[39;00m \u001b[38;5;28mrange\u001b[39m(\u001b[43mengine\u001b[49m\u001b[38;5;241;43m.\u001b[39;49m\u001b[43mnum_bindings\u001b[49m):\n\u001b[1;32m      7\u001b[0m         name \u001b[38;5;241m=\u001b[39m engine\u001b[38;5;241m.\u001b[39mget_binding_name(i)\n\u001b[1;32m      8\u001b[0m         dtype \u001b[38;5;241m=\u001b[39m engine\u001b[38;5;241m.\u001b[39mget_binding_dtype(i)\n",
      "\u001b[0;31mAttributeError\u001b[0m: 'NoneType' object has no attribute 'num_bindings'"
     ]
    }
   ],
   "source": [
    "import tensorrt as trt\n",
    "\n",
    "TRT_LOGGER = trt.Logger(trt.Logger.WARNING)\n",
    "with open(\"model_repo/yoloseg-engine/1/model.engine\", \"rb\") as f, trt.Runtime(TRT_LOGGER) as runtime:\n",
    "    engine = runtime.deserialize_cuda_engine(f.read())\n",
    "    for i in range(engine.num_bindings):\n",
    "        name = engine.get_binding_name(i)\n",
    "        dtype = engine.get_binding_dtype(i)\n",
    "        shape = engine.get_binding_shape(i)\n",
    "        is_input = engine.binding_is_input(i)\n",
    "        print(\"Input\" if is_input else \"Output\", name, dtype, shape)\n"
   ]
  },
  {
   "cell_type": "code",
   "execution_count": 1,
   "metadata": {},
   "outputs": [
    {
     "name": "stdout",
     "output_type": "stream",
     "text": [
      "WARNING ⚠️ Unable to automatically guess model task, assuming 'task=detect'. Explicitly define task for your model, i.e. 'task=detect', 'segment', 'classify','pose' or 'obb'.\n"
     ]
    }
   ],
   "source": [
    "from ultralytics import YOLO\n",
    "\n",
    "model = YOLO('model_repo/yoloseg-engine/1/model.engine')"
   ]
  },
  {
   "cell_type": "code",
   "execution_count": 4,
   "metadata": {},
   "outputs": [
    {
     "ename": "AttributeError",
     "evalue": "'YOLO' object has no attribute 'summary'",
     "output_type": "error",
     "traceback": [
      "\u001b[0;31m---------------------------------------------------------------------------\u001b[0m",
      "\u001b[0;31mAttributeError\u001b[0m                            Traceback (most recent call last)",
      "Cell \u001b[0;32mIn[4], line 1\u001b[0m\n\u001b[0;32m----> 1\u001b[0m \u001b[43mmodel\u001b[49m\u001b[38;5;241;43m.\u001b[39;49m\u001b[43msummary\u001b[49m()\n",
      "File \u001b[0;32m~/anaconda3/envs/yolo/lib/python3.8/site-packages/torch/nn/modules/module.py:1729\u001b[0m, in \u001b[0;36mModule.__getattr__\u001b[0;34m(self, name)\u001b[0m\n\u001b[1;32m   1727\u001b[0m     \u001b[38;5;28;01mif\u001b[39;00m name \u001b[38;5;129;01min\u001b[39;00m modules:\n\u001b[1;32m   1728\u001b[0m         \u001b[38;5;28;01mreturn\u001b[39;00m modules[name]\n\u001b[0;32m-> 1729\u001b[0m \u001b[38;5;28;01mraise\u001b[39;00m \u001b[38;5;167;01mAttributeError\u001b[39;00m(\u001b[38;5;124mf\u001b[39m\u001b[38;5;124m\"\u001b[39m\u001b[38;5;124m'\u001b[39m\u001b[38;5;132;01m{\u001b[39;00m\u001b[38;5;28mtype\u001b[39m(\u001b[38;5;28mself\u001b[39m)\u001b[38;5;241m.\u001b[39m\u001b[38;5;18m__name__\u001b[39m\u001b[38;5;132;01m}\u001b[39;00m\u001b[38;5;124m'\u001b[39m\u001b[38;5;124m object has no attribute \u001b[39m\u001b[38;5;124m'\u001b[39m\u001b[38;5;132;01m{\u001b[39;00mname\u001b[38;5;132;01m}\u001b[39;00m\u001b[38;5;124m'\u001b[39m\u001b[38;5;124m\"\u001b[39m)\n",
      "\u001b[0;31mAttributeError\u001b[0m: 'YOLO' object has no attribute 'summary'"
     ]
    }
   ],
   "source": []
  },
  {
   "cell_type": "code",
   "execution_count": null,
   "metadata": {},
   "outputs": [],
   "source": []
  }
 ],
 "metadata": {
  "kernelspec": {
   "display_name": "yolo",
   "language": "python",
   "name": "python3"
  },
  "language_info": {
   "codemirror_mode": {
    "name": "ipython",
    "version": 3
   },
   "file_extension": ".py",
   "mimetype": "text/x-python",
   "name": "python",
   "nbconvert_exporter": "python",
   "pygments_lexer": "ipython3",
   "version": "3.8.18"
  }
 },
 "nbformat": 4,
 "nbformat_minor": 2
}
